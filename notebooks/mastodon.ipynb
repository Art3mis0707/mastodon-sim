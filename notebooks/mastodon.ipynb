{
 "cells": [
  {
   "cell_type": "markdown",
   "metadata": {},
   "source": [
    "# Mastodon API operations\n",
    "\n",
    "API operations defined in `mastodon_sim.mastodon_ops`."
   ]
  },
  {
   "cell_type": "code",
   "execution_count": 1,
   "metadata": {},
   "outputs": [],
   "source": [
    "%load_ext autoreload\n",
    "%autoreload 2"
   ]
  },
  {
   "cell_type": "markdown",
   "metadata": {},
   "source": [
    "## Check environment\n",
    "\n",
    "Get environment variables with `.env` file (in project root directory)"
   ]
  },
  {
   "cell_type": "code",
   "execution_count": 2,
   "metadata": {},
   "outputs": [
    {
     "name": "stdout",
     "output_type": "stream",
     "text": [
      "2024-07-03T20:29:08.911457+0000 INFO Successfully loaded .env file.\n",
      "2024-07-03T20:29:08.912603+0000 INFO API_BASE_URL: https://misinfo-mast-sandbox.net\n",
      "2024-07-03T20:29:08.913004+0000 INFO EMAIL_PREFIX: austinmw89\n",
      "2024-07-03T20:29:08.913402+0000 INFO MASTODON_CLIENT_ID: s*****************************************0\n",
      "2024-07-03T20:29:08.914013+0000 INFO MASTODON_CLIENT_SECRET: x*****************************************o\n",
      "2024-07-03T20:29:08.914756+0000 INFO USER001_PASSWORD: a******************************5\n",
      "2024-07-03T20:29:08.915241+0000 INFO USER002_PASSWORD: 1******************************d\n"
     ]
    }
   ],
   "source": [
    "from mastodon_sim.mastodon_ops import check_env\n",
    "\n",
    "check_env()"
   ]
  },
  {
   "cell_type": "markdown",
   "metadata": {},
   "source": [
    "## Get Mastodon client\n",
    "\n",
    "Create Mastodon client object"
   ]
  },
  {
   "cell_type": "code",
   "execution_count": 3,
   "metadata": {},
   "outputs": [],
   "source": [
    "from mastodon_sim.mastodon_ops import get_client\n",
    "\n",
    "mastodon = get_client()"
   ]
  },
  {
   "cell_type": "markdown",
   "metadata": {},
   "source": [
    "## Login user\n",
    "\n",
    "Get access token for `user001`."
   ]
  },
  {
   "cell_type": "code",
   "execution_count": 4,
   "metadata": {},
   "outputs": [
    {
     "name": "stdout",
     "output_type": "stream",
     "text": [
      "access_token: kvrqFZUPQu7r-3YbAdGQHXpnapxSFNYMqBVTJ4e75zo\n"
     ]
    }
   ],
   "source": [
    "from mastodon_sim.mastodon_ops import login\n",
    "\n",
    "access_token = login(\"user001\")\n",
    "print(f\"access_token: {access_token}\")"
   ]
  },
  {
   "cell_type": "code",
   "execution_count": 5,
   "metadata": {},
   "outputs": [
    {
     "name": "stdout",
     "output_type": "stream",
     "text": [
      "2024-07-03T20:29:09.647496+0000 INFO Successfully logged in as user001. Credentials saved to user001_usercred.secret\n",
      "access_token: kvrqFZUPQu7r-3YbAdGQHXpnapxSFNYMqBVTJ4e75zo\n"
     ]
    }
   ],
   "source": [
    "from mastodon_sim.mastodon_ops import login\n",
    "\n",
    "access_token = login(\"user001\", save_to_file=True)\n",
    "print(f\"access_token: {access_token}\")\n",
    "\n",
    "!rm user001_usercred.secret"
   ]
  },
  {
   "cell_type": "markdown",
   "metadata": {},
   "source": [
    "## Follow user\n",
    "\n",
    "Make `user001` follow `user002`."
   ]
  },
  {
   "cell_type": "code",
   "execution_count": 6,
   "metadata": {},
   "outputs": [
    {
     "name": "stdout",
     "output_type": "stream",
     "text": [
      "2024-07-03T20:29:10.407861+0000 INFO user001 is now following user002.\n"
     ]
    }
   ],
   "source": [
    "from mastodon_sim.mastodon_ops import follow\n",
    "\n",
    "follow(login_user=\"user001\", follow_user=\"user002\")"
   ]
  },
  {
   "cell_type": "markdown",
   "metadata": {},
   "source": [
    "## Unfollow user\n",
    "\n",
    "Make `user001` unfollow `user002`."
   ]
  },
  {
   "cell_type": "code",
   "execution_count": 7,
   "metadata": {},
   "outputs": [
    {
     "name": "stdout",
     "output_type": "stream",
     "text": [
      "2024-07-03T20:29:10.881735+0000 INFO user001 has unfollowed user002.\n"
     ]
    }
   ],
   "source": [
    "from mastodon_sim.mastodon_ops import unfollow\n",
    "\n",
    "unfollow(login_user=\"user001\", unfollow_user=\"user002\")"
   ]
  },
  {
   "cell_type": "markdown",
   "metadata": {},
   "source": [
    "## Toot (post a message)\n",
    "\n",
    "Make `user001` toot a `message`.\n",
    "\n",
    "Note that \"toot\" is analogous to \"tweet\"."
   ]
  },
  {
   "cell_type": "code",
   "execution_count": 8,
   "metadata": {},
   "outputs": [
    {
     "name": "stdout",
     "output_type": "stream",
     "text": [
      "2024-07-03T20:29:11.313731+0000 INFO user002 successfully posted the message.\n"
     ]
    }
   ],
   "source": [
    "from mastodon_sim.mastodon_ops import toot\n",
    "\n",
    "toot(login_user=\"user001\", message=\"Test message!\")"
   ]
  },
  {
   "cell_type": "markdown",
   "metadata": {},
   "source": [
    "## Get the public timeline\n",
    "\n",
    "Get the entire pubic timeline in reverse chronological order, up to `limit`."
   ]
  },
  {
   "cell_type": "code",
   "execution_count": 30,
   "metadata": {},
   "outputs": [
    {
     "name": "stdout",
     "output_type": "stream",
     "text": [
      "2024-07-03T20:52:23.419345+0000 INFO Retrieved 12 posts from the public timeline.\n"
     ]
    }
   ],
   "source": [
    "from mastodon_sim.mastodon_ops import get_public_timeline, print_timeline\n",
    "\n",
    "timeline = get_public_timeline(limit=None)\n",
    "# print_timeline(timeline)"
   ]
  },
  {
   "cell_type": "markdown",
   "metadata": {},
   "source": [
    "## Get own timeline\n",
    "\n",
    "Retrieve `user001`'s timeline."
   ]
  },
  {
   "cell_type": "code",
   "execution_count": 10,
   "metadata": {},
   "outputs": [
    {
     "name": "stdout",
     "output_type": "stream",
     "text": [
      "2024-07-03T20:29:11.957372+0000 INFO user001 retrieved 5 posts from their own timeline.\n",
      "----------------------------------------\n",
      "Post ID: 112723998417409563\n",
      "Created At: 2024-07-03 18:35:14.134000+00:00\n",
      "User:  (@user001)\n",
      "Content: <p>Test message!</p>\n",
      "URL: https://misinfo-mast-sandbox.net/@user001/112723998417409563\n",
      "Favourites: 0, Reblogs: 0\n",
      "----------------------------------------\n",
      "Post ID: 112723991089715582\n",
      "Created At: 2024-07-03 18:33:22.322000+00:00\n",
      "User:  (@user001)\n",
      "Content: <p>Test message!</p>\n",
      "URL: https://misinfo-mast-sandbox.net/@user001/112723991089715582\n",
      "Favourites: 0, Reblogs: 0\n",
      "----------------------------------------\n",
      "Post ID: 112723565883729250\n",
      "Created At: 2024-07-03 16:45:14.193000+00:00\n",
      "User:  (@user001)\n",
      "Content: <p>Test message!</p>\n",
      "URL: https://misinfo-mast-sandbox.net/@user001/112723565883729250\n",
      "Favourites: 0, Reblogs: 0\n",
      "----------------------------------------\n",
      "Post ID: 112723564917200611\n",
      "Created At: 2024-07-03 16:44:59.447000+00:00\n",
      "User:  (@user001)\n",
      "Content: <p>Test message!</p>\n",
      "URL: https://misinfo-mast-sandbox.net/@user001/112723564917200611\n",
      "Favourites: 0, Reblogs: 0\n",
      "----------------------------------------\n",
      "Post ID: 112706693723946754\n",
      "Created At: 2024-06-30 17:14:25.475000+00:00\n",
      "User:  (@user001)\n",
      "Content: <p>Hello, Mastodon!</p>\n",
      "URL: https://misinfo-mast-sandbox.net/@user001/112706693723946754\n",
      "Favourites: 0, Reblogs: 0\n",
      "----------------------------------------\n"
     ]
    }
   ],
   "source": [
    "from mastodon_sim.mastodon_ops import get_own_timeline\n",
    "\n",
    "timeline = get_own_timeline(\"user001\")\n",
    "print_timeline(timeline)"
   ]
  },
  {
   "cell_type": "markdown",
   "metadata": {},
   "source": [
    "## Read a user's timeline (non-global)\n",
    "\n",
    "From the perspective of `user001`, read `user002`'s timeline.\n",
    "\n",
    "**Accessible Information**:\n",
    "  - `user001` can read `user002`'s public and unlisted posts, as well as follower-only posts if `user001` is a follower.\n",
    "  - Details available include post ID, creation date, username, display name, content, URL, favourites count, and reblogs count.\n",
    "\n",
    "**Restricted Information**:\n",
    "  - `user001` cannot access private posts or direct messages.\n",
    "\n",
    "**Impact of Being Blocked**:\n",
    "  - If `user002` has blocked `user001`, `user001` cannot retrieve any posts from `user002`'s timeline.\n",
    "  - The function will return an empty list due to the block enforced by the Mastodon API."
   ]
  },
  {
   "cell_type": "code",
   "execution_count": 11,
   "metadata": {},
   "outputs": [
    {
     "name": "stdout",
     "output_type": "stream",
     "text": [
      "2024-07-03T20:29:12.563007+0000 INFO user001 retrieved 7 posts from user002's timeline.\n",
      "----------------------------------------\n",
      "Post ID: 112724446498254894\n",
      "Created At: 2024-07-03 20:29:11.304000+00:00\n",
      "User:  (@user002)\n",
      "Content: <p>Test message!</p>\n",
      "URL: https://misinfo-mast-sandbox.net/@user002/112724446498254894\n",
      "Favourites: 0, Reblogs: 0\n",
      "----------------------------------------\n",
      "Post ID: 112724384987640174\n",
      "Created At: 2024-07-03 20:13:32.726000+00:00\n",
      "User:  (@user002)\n",
      "Content: <p>Test message!</p>\n",
      "URL: https://misinfo-mast-sandbox.net/@user002/112724384987640174\n",
      "Favourites: 0, Reblogs: 0\n",
      "----------------------------------------\n",
      "Post ID: 112724383016812274\n",
      "Created At: 2024-07-03 20:13:02.653000+00:00\n",
      "User:  (@user002)\n",
      "Content: <p>Test message!</p>\n",
      "URL: https://misinfo-mast-sandbox.net/@user002/112724383016812274\n",
      "Favourites: 0, Reblogs: 0\n",
      "----------------------------------------\n",
      "Post ID: 112724368292422102\n",
      "Created At: 2024-07-03 20:09:17.978000+00:00\n",
      "User:  (@user002)\n",
      "Content: <p>Test message!</p>\n",
      "URL: https://misinfo-mast-sandbox.net/@user002/112724368292422102\n",
      "Favourites: 0, Reblogs: 0\n",
      "----------------------------------------\n",
      "Post ID: 112724038114714734\n",
      "Created At: 2024-07-03 18:45:19.867000+00:00\n",
      "User:  (@user002)\n",
      "Content: <p>Test message!</p>\n",
      "URL: https://misinfo-mast-sandbox.net/@user002/112724038114714734\n",
      "Favourites: 0, Reblogs: 0\n",
      "----------------------------------------\n",
      "Post ID: 112724011112344544\n",
      "Created At: 2024-07-03 18:38:27.843000+00:00\n",
      "User:  (@user002)\n",
      "Content: <p>Test message!</p>\n",
      "URL: https://misinfo-mast-sandbox.net/@user002/112724011112344544\n",
      "Favourites: 0, Reblogs: 0\n",
      "----------------------------------------\n",
      "Post ID: 112706730556580302\n",
      "Created At: 2024-06-30 17:23:47.486000+00:00\n",
      "User:  (@user002)\n",
      "Content: <p>Hello, Mastodon, I&#39;m user002!</p>\n",
      "URL: https://misinfo-mast-sandbox.net/@user002/112706730556580302\n",
      "Favourites: 1, Reblogs: 1\n",
      "----------------------------------------\n"
     ]
    }
   ],
   "source": [
    "from mastodon_sim.mastodon_ops import get_user_timeline\n",
    "\n",
    "timeline = get_user_timeline(login_user=\"user001\", target_user=\"user002\", limit=None)\n",
    "print_timeline(timeline)"
   ]
  },
  {
   "cell_type": "markdown",
   "metadata": {},
   "source": [
    "## Block / unblock a user\n",
    "\n",
    "Make `user001` block or unblock `user002`."
   ]
  },
  {
   "cell_type": "code",
   "execution_count": 12,
   "metadata": {},
   "outputs": [
    {
     "name": "stdout",
     "output_type": "stream",
     "text": [
      "2024-07-03T20:29:13.103994+0000 INFO user001 has blocked user002.\n",
      "2024-07-03T20:29:13.635775+0000 INFO user002 retrieved 0 posts from user001's timeline.\n",
      "2024-07-03T20:29:14.143582+0000 INFO user001 has unblocked user002.\n",
      "2024-07-03T20:29:14.671670+0000 INFO user002 retrieved 6 posts from user001's timeline.\n"
     ]
    }
   ],
   "source": [
    "from mastodon_sim.mastodon_ops import block_user, unblock_user\n",
    "\n",
    "# user001 blocks user002\n",
    "block_user(login_user=\"user001\", target_user=\"user002\")\n",
    "\n",
    "# user002 tries to read user001's timeline, but retrieves zero toots\n",
    "timeline = get_user_timeline(login_user=\"user002\", target_user=\"user001\")\n",
    "\n",
    "# user001 unblocks user002\n",
    "unblock_user(login_user=\"user001\", target_user=\"user002\")\n",
    "\n",
    "# user002 tries to read user001's timeline again, and retrieves the toots\n",
    "timeline = get_user_timeline(login_user=\"user002\", target_user=\"user001\")"
   ]
  },
  {
   "cell_type": "markdown",
   "metadata": {},
   "source": [
    "## Like (favorite) a toot\n",
    "\n",
    "Make `user001` like `user002`'s toot with ID `toot_id`."
   ]
  },
  {
   "cell_type": "code",
   "execution_count": 27,
   "metadata": {},
   "outputs": [
    {
     "name": "stdout",
     "output_type": "stream",
     "text": [
      "2024-07-03T20:44:56.674346+0000 INFO user001 retrieved 7 posts from user002's timeline.\n",
      "2024-07-03T20:44:57.108856+0000 INFO user001 liked post 112724446498254894 from user002.\n"
     ]
    }
   ],
   "source": [
    "from mastodon_sim.mastodon_ops import like_toot\n",
    "\n",
    "timeline = get_user_timeline(login_user=\"user001\", target_user=\"user002\")\n",
    "\n",
    "# Most recent toot is index 0 (reverse chronological order)\n",
    "most_recent_toot_id = timeline[0][\"id\"]\n",
    "\n",
    "like_toot(login_user=\"user001\", target_user=\"user002\", toot_id=most_recent_toot_id)"
   ]
  },
  {
   "cell_type": "markdown",
   "metadata": {},
   "source": [
    "## Boost (reblog) a toot\n",
    "\n",
    "Make `user001` boost `user002`'s toot with ID `toot_id`."
   ]
  },
  {
   "cell_type": "code",
   "execution_count": 29,
   "metadata": {},
   "outputs": [
    {
     "name": "stdout",
     "output_type": "stream",
     "text": [
      "2024-07-03T20:49:01.747146+0000 INFO user001 retrieved 7 posts from user002's timeline.\n",
      "2024-07-03T20:49:02.246386+0000 INFO user001 boosted post 112724446498254894 from user002.\n"
     ]
    }
   ],
   "source": [
    "from mastodon_sim.mastodon_ops import boost_toot\n",
    "\n",
    "timeline = get_user_timeline(login_user=\"user001\", target_user=\"user002\")\n",
    "most_recent_toot_id = timeline[0][\"id\"]\n",
    "\n",
    "boost_toot(login_user=\"user001\", target_user=\"user002\", toot_id=most_recent_toot_id)"
   ]
  },
  {
   "cell_type": "markdown",
   "metadata": {},
   "source": [
    "And that's it so far!"
   ]
  }
 ],
 "metadata": {
  "kernelspec": {
   "display_name": "mastodon-sim-env",
   "language": "python",
   "name": "python3"
  },
  "language_info": {
   "codemirror_mode": {
    "name": "ipython",
    "version": 3
   },
   "file_extension": ".py",
   "mimetype": "text/x-python",
   "name": "python",
   "nbconvert_exporter": "python",
   "pygments_lexer": "ipython3",
   "version": "3.11.9"
  }
 },
 "nbformat": 4,
 "nbformat_minor": 2
}
